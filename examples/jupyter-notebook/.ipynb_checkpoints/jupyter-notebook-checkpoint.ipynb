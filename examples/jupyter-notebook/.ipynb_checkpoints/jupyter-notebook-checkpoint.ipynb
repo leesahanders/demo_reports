{
 "cells": [
  {
   "cell_type": "code",
   "execution_count": null,
   "id": "82c260c1-0db1-4471-b2f6-3fef49cf3b90",
   "metadata": {},
   "outputs": [],
   "source": [
    "import pandas as pd\n",
    "dF = pd.read_csv(\"https://archive.ics.uci.edu/ml/machine-learning-databases/iris/iris.data\", names=[\"sl\", \"sw\", \"pl\", \"pw\", \"class\"])\n",
    "dF.head()"
   ]
  }
 ],
 "metadata": {
  "kernelspec": {
   "display_name": "Python 3 (ipykernel)",
   "language": "python",
   "name": "python3"
  },
  "language_info": {
   "codemirror_mode": {
    "name": "ipython",
    "version": 3
   },
   "file_extension": ".py",
   "mimetype": "text/x-python",
   "name": "python",
   "nbconvert_exporter": "python",
   "pygments_lexer": "ipython3",
   "version": "3.10.4"
  }
 },
 "nbformat": 4,
 "nbformat_minor": 5
}
